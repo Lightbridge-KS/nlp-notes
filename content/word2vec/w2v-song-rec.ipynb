{
 "cells": [
  {
   "cell_type": "markdown",
   "metadata": {},
   "source": [
    "# W2V: Song Recommend System"
   ]
  },
  {
   "cell_type": "code",
   "execution_count": 1,
   "metadata": {},
   "outputs": [],
   "source": [
    "import sys\n",
    "from pathlib import Path\n",
    "sys.path.insert(1, str(Path.cwd().parent.parent)) \n",
    "\n",
    "import pandas as pd\n",
    "from urllib import request\n",
    "\n",
    "from src.fs import read_pickle, write_pickle"
   ]
  },
  {
   "cell_type": "markdown",
   "metadata": {},
   "source": [
    "## Read: Playlist"
   ]
  },
  {
   "cell_type": "code",
   "execution_count": 3,
   "metadata": {},
   "outputs": [
    {
     "data": {
      "text/plain": [
       "<http.client.HTTPResponse at 0x16aa73cd0>"
      ]
     },
     "execution_count": 3,
     "metadata": {},
     "output_type": "execute_result"
    }
   ],
   "source": [
    "# Get the playlist dataset file\n",
    "data = request.urlopen('https://storage.googleapis.com/maps-premium/dataset/yes_complete/train.txt')\n",
    "data"
   ]
  },
  {
   "cell_type": "code",
   "execution_count": 4,
   "metadata": {},
   "outputs": [
    {
     "data": {
      "text/plain": [
       "11138"
      ]
     },
     "execution_count": 4,
     "metadata": {},
     "output_type": "execute_result"
    }
   ],
   "source": [
    "# Parse the playlist dataset file. Skip the first two lines as\n",
    "# they only contain metadata\n",
    "lines = data.read().decode(\"utf-8\").split('\\n')[2:]\n",
    "len(lines)"
   ]
  },
  {
   "cell_type": "code",
   "execution_count": 5,
   "metadata": {},
   "outputs": [
    {
     "data": {
      "text/plain": [
       "['0 1 2 3 4 5 6 7 8 9 10 11 12 13 14 15 16 17 18 19 20 21 22 23 24 25 26 27 28 29 30 31 32 33 34 35 36 37 38 39 40 41 2 42 43 44 45 46 47 48 20 49 8 50 51 52 53 54 55 56 57 25 58 59 60 61 62 3 63 64 65 66 46 47 67 2 48 68 69 70 57 50 71 72 53 73 25 74 59 20 46 75 76 77 59 20 43 ',\n",
       " '78 79 80 3 62 81 14 82 48 83 84 17 85 86 87 88 74 89 90 91 4 73 62 92 17 53 59 93 94 51 50 27 95 48 96 97 98 99 100 57 101 102 25 103 3 104 105 106 107 47 108 109 110 111 112 113 25 63 62 114 115 84 116 117 118 119 120 121 122 123 50 70 71 124 17 85 14 82 48 125 47 46 72 53 25 73 4 126 59 74 20 43 127 128 129 13 82 48 130 131 132 133 134 135 136 137 59 46 138 43 20 139 140 73 57 70 141 3 1 74 142 143 144 145 48 13 25 146 50 147 126 59 20 148 149 150 151 152 56 153 154 155 156 157 158 159 160 161 162 163 164 165 166 167 168 169 170 171 172 173 174 175 60 176 51 177 178 179 180 181 182 183 184 185 57 186 187 188 189 190 191 46 192 193 194 195 196 197 198 25 199 200 49 201 100 202 203 204 205 206 207 32 208 209 210 ',\n",
       " '211 212 213 59 25 214 215 57 93 216 70 3 81 62 57 25 217 20 82 14 70 1 74 47 218 209 13 90 91 4 73 62 92 17 53 59 51 50 27 95 48 96 97 98 99 100 57 101 102 25 103 3 219 220 221 222 223 20 74 224 59 77 225 226 227 228 229 230 231 232 13 233 48 234 57 235 236 77 89 96 46 75 237 238 239 240 241 50 242 53 243 244 245 73 246 63 62 3 85 14 82 247 59 19 17 46 248 249 250 251 25 50 71 72 53 74 20 57 252 253 246 62 254 3 81 255 256 146 50 53 72 25 257 258 57 259 260 261 262 263 216 264 70 265 188 266 46 267 17 268 269 270 75 271 272 273 274 25 275 140 231 276 232 57 53 242 277 278 1 279 280 281 282 283 284 285 286 ',\n",
       " '287 288 83 82 289 11 290 291 292 24 26 27 28 29 30 31 32 33 34 35 36 293 37 294 183 38 186 295 296 297 175 171 57 298 299 185 300 158 301 302 39 303 304 305 45 306 25 307 308 309 74 20 85 50 53 71 72 242 57 25 46 77 59 43 310 216 311 312 313 130 71 314 77 46 315 238 310 241 25 76 4 147 74 59 20 25 59 46 74 43 57 316 317 50 72 71 264 20 147 140 72 53 25 53 318 72 319 320 76 74 213 321 322 323 269 324 267 325 25 326 327 328 211 20 329 330 331 43 332 323 333 21 20 308 74 225 96 59 11 264 50 70 57 ',\n",
       " '334 335 336 337 338 339 340 60 242 341 70 50 342 113 1 47 343 25 74 330 344 77 345 346 57 297 347 348 64 8 106 349 104 39 350 351 1 62 25 352 353 354 59 46 355 356 357 57 82 50 25 60 11 358 241 47 359 20 46 360 188 361 242 57 209 362 43 46 363 60 213 17 25 50 53 72 73 20 364 4 47 365 241 59 366 13 46 17 367 59 77 368 74 369 81 63 370 143 317 371 372 312 25 46 362 373 374 375 376 377 50 57 378 25 1 95 3 74 379 46 ']"
      ]
     },
     "execution_count": 5,
     "metadata": {},
     "output_type": "execute_result"
    }
   ],
   "source": [
    "lines[:5]"
   ]
  },
  {
   "cell_type": "code",
   "execution_count": 5,
   "metadata": {},
   "outputs": [
    {
     "data": {
      "text/plain": [
       "11088"
      ]
     },
     "execution_count": 5,
     "metadata": {},
     "output_type": "execute_result"
    }
   ],
   "source": [
    "# Remove playlists with only one song\n",
    "playlists = [s.rstrip().split() for s in lines if len(s.split()) > 1]\n",
    "len(playlists)"
   ]
  },
  {
   "cell_type": "code",
   "execution_count": 6,
   "metadata": {},
   "outputs": [
    {
     "data": {
      "text/plain": [
       "['0', '1', '2', '3', '4']"
      ]
     },
     "execution_count": 6,
     "metadata": {},
     "output_type": "execute_result"
    }
   ],
   "source": [
    "playlists[0][:5]"
   ]
  },
  {
   "cell_type": "code",
   "execution_count": null,
   "metadata": {},
   "outputs": [],
   "source": [
    "write_pickle(playlists, \"data/playlists.pkl\")"
   ]
  },
  {
   "cell_type": "code",
   "execution_count": 4,
   "metadata": {},
   "outputs": [],
   "source": [
    "playlists = read_pickle(\"data/playlists.pkl\")"
   ]
  },
  {
   "cell_type": "markdown",
   "metadata": {},
   "source": [
    "## Read: Songs"
   ]
  },
  {
   "cell_type": "code",
   "execution_count": 8,
   "metadata": {},
   "outputs": [],
   "source": [
    "# Load song metadata\n",
    "songs_file = request.urlopen('https://storage.googleapis.com/maps-premium/dataset/yes_complete/song_hash.txt')\n",
    "songs_file = songs_file.read().decode(\"utf-8\").split('\\n')"
   ]
  },
  {
   "cell_type": "code",
   "execution_count": 9,
   "metadata": {},
   "outputs": [
    {
     "data": {
      "text/plain": [
       "['0 \\tGucci Time (w\\\\/ Swizz Beatz)\\tGucci Mane',\n",
       " '1 \\tAston Martin Music (w\\\\/ Drake & Chrisette Michelle)\\tRick Ross',\n",
       " '2 \\tGet Back Up (w\\\\/ Chris Brown)\\tT.I.',\n",
       " '3 \\tHot Toddy (w\\\\/ Jay-Z & Ester Dean)\\tUsher',\n",
       " '4 \\tWhip My Hair\\tWillow']"
      ]
     },
     "execution_count": 9,
     "metadata": {},
     "output_type": "execute_result"
    }
   ],
   "source": [
    "songs_file[:5]"
   ]
  },
  {
   "cell_type": "code",
   "execution_count": 10,
   "metadata": {},
   "outputs": [
    {
     "data": {
      "text/plain": [
       "[['0 ', 'Gucci Time (w\\\\/ Swizz Beatz)', 'Gucci Mane'],\n",
       " ['1 ', 'Aston Martin Music (w\\\\/ Drake & Chrisette Michelle)', 'Rick Ross'],\n",
       " ['2 ', 'Get Back Up (w\\\\/ Chris Brown)', 'T.I.']]"
      ]
     },
     "execution_count": 10,
     "metadata": {},
     "output_type": "execute_result"
    }
   ],
   "source": [
    "songs = [s.rstrip().split('\\t') for s in songs_file]\n",
    "songs[:3]"
   ]
  },
  {
   "cell_type": "code",
   "execution_count": 11,
   "metadata": {},
   "outputs": [
    {
     "data": {
      "application/vnd.microsoft.datawrangler.viewer.v0+json": {
       "columns": [
        {
         "name": "id",
         "rawType": "object",
         "type": "string"
        },
        {
         "name": "title",
         "rawType": "object",
         "type": "string"
        },
        {
         "name": "artist",
         "rawType": "object",
         "type": "string"
        }
       ],
       "conversionMethod": "pd.DataFrame",
       "ref": "0aeda795-e96a-4cf9-aa65-c58bc0243fde",
       "rows": [
        [
         "0 ",
         "Gucci Time (w\\/ Swizz Beatz)",
         "Gucci Mane"
        ],
        [
         "1 ",
         "Aston Martin Music (w\\/ Drake & Chrisette Michelle)",
         "Rick Ross"
        ],
        [
         "2 ",
         "Get Back Up (w\\/ Chris Brown)",
         "T.I."
        ],
        [
         "3 ",
         "Hot Toddy (w\\/ Jay-Z & Ester Dean)",
         "Usher"
        ],
        [
         "4 ",
         "Whip My Hair",
         "Willow"
        ]
       ],
       "shape": {
        "columns": 2,
        "rows": 5
       }
      },
      "text/html": [
       "<div>\n",
       "<style scoped>\n",
       "    .dataframe tbody tr th:only-of-type {\n",
       "        vertical-align: middle;\n",
       "    }\n",
       "\n",
       "    .dataframe tbody tr th {\n",
       "        vertical-align: top;\n",
       "    }\n",
       "\n",
       "    .dataframe thead th {\n",
       "        text-align: right;\n",
       "    }\n",
       "</style>\n",
       "<table border=\"1\" class=\"dataframe\">\n",
       "  <thead>\n",
       "    <tr style=\"text-align: right;\">\n",
       "      <th></th>\n",
       "      <th>title</th>\n",
       "      <th>artist</th>\n",
       "    </tr>\n",
       "    <tr>\n",
       "      <th>id</th>\n",
       "      <th></th>\n",
       "      <th></th>\n",
       "    </tr>\n",
       "  </thead>\n",
       "  <tbody>\n",
       "    <tr>\n",
       "      <th>0</th>\n",
       "      <td>Gucci Time (w\\/ Swizz Beatz)</td>\n",
       "      <td>Gucci Mane</td>\n",
       "    </tr>\n",
       "    <tr>\n",
       "      <th>1</th>\n",
       "      <td>Aston Martin Music (w\\/ Drake &amp; Chrisette Mich...</td>\n",
       "      <td>Rick Ross</td>\n",
       "    </tr>\n",
       "    <tr>\n",
       "      <th>2</th>\n",
       "      <td>Get Back Up (w\\/ Chris Brown)</td>\n",
       "      <td>T.I.</td>\n",
       "    </tr>\n",
       "    <tr>\n",
       "      <th>3</th>\n",
       "      <td>Hot Toddy (w\\/ Jay-Z &amp; Ester Dean)</td>\n",
       "      <td>Usher</td>\n",
       "    </tr>\n",
       "    <tr>\n",
       "      <th>4</th>\n",
       "      <td>Whip My Hair</td>\n",
       "      <td>Willow</td>\n",
       "    </tr>\n",
       "  </tbody>\n",
       "</table>\n",
       "</div>"
      ],
      "text/plain": [
       "                                                title      artist\n",
       "id                                                               \n",
       "0                        Gucci Time (w\\/ Swizz Beatz)  Gucci Mane\n",
       "1   Aston Martin Music (w\\/ Drake & Chrisette Mich...   Rick Ross\n",
       "2                       Get Back Up (w\\/ Chris Brown)        T.I.\n",
       "3                  Hot Toddy (w\\/ Jay-Z & Ester Dean)       Usher\n",
       "4                                        Whip My Hair      Willow"
      ]
     },
     "execution_count": 11,
     "metadata": {},
     "output_type": "execute_result"
    }
   ],
   "source": [
    "songs_df = pd.DataFrame(data=songs, columns = ['id', 'title', 'artist'])\n",
    "songs_df = songs_df.set_index('id')\n",
    "songs_df.head()"
   ]
  },
  {
   "cell_type": "code",
   "execution_count": 12,
   "metadata": {},
   "outputs": [],
   "source": [
    "songs_df.to_pickle(\"data/songs_df.pkl\")"
   ]
  },
  {
   "cell_type": "code",
   "execution_count": 3,
   "metadata": {},
   "outputs": [],
   "source": [
    "songs_df = pd.read_pickle(\"data/songs_df.pkl\")"
   ]
  },
  {
   "cell_type": "markdown",
   "metadata": {},
   "source": [
    "## Word2Vec Model"
   ]
  },
  {
   "cell_type": "code",
   "execution_count": 5,
   "metadata": {},
   "outputs": [],
   "source": [
    "from gensim.models import Word2Vec\n",
    "\n",
    "# Train our Word2Vec model\n",
    "model = Word2Vec(\n",
    "    playlists, vector_size=32, window=20, negative=50, min_count=1, workers=4\n",
    ")"
   ]
  },
  {
   "cell_type": "code",
   "execution_count": 7,
   "metadata": {},
   "outputs": [
    {
     "name": "stdout",
     "output_type": "stream",
     "text": [
      "title     Fade To Black\n",
      "artist        Metallica\n",
      "Name: 2172 , dtype: object\n"
     ]
    }
   ],
   "source": [
    "print(songs_df.iloc[2172])"
   ]
  },
  {
   "cell_type": "code",
   "execution_count": 6,
   "metadata": {},
   "outputs": [
    {
     "data": {
      "text/plain": [
       "[('2849', 0.9985162615776062),\n",
       " ('3167', 0.9975162744522095),\n",
       " ('5586', 0.9967291355133057),\n",
       " ('6624', 0.9962368607521057),\n",
       " ('2976', 0.9961584210395813),\n",
       " ('11473', 0.995529294013977),\n",
       " ('5634', 0.995094358921051),\n",
       " ('2640', 0.9945476651191711),\n",
       " ('6658', 0.9942667484283447),\n",
       " ('2704', 0.9940786957740784)]"
      ]
     },
     "execution_count": 6,
     "metadata": {},
     "output_type": "execute_result"
    }
   ],
   "source": [
    "song_id = 2172\n",
    "\n",
    "# Ask the model for songs similar to song #2172\n",
    "model.wv.most_similar(positive=str(song_id))"
   ]
  },
  {
   "cell_type": "code",
   "execution_count": 8,
   "metadata": {},
   "outputs": [
    {
     "data": {
      "application/vnd.microsoft.datawrangler.viewer.v0+json": {
       "columns": [
        {
         "name": "id",
         "rawType": "object",
         "type": "string"
        },
        {
         "name": "title",
         "rawType": "object",
         "type": "string"
        },
        {
         "name": "artist",
         "rawType": "object",
         "type": "string"
        }
       ],
       "conversionMethod": "pd.DataFrame",
       "ref": "722d9434-0b18-47db-9a7a-780053222306",
       "rows": [
        [
         "2849 ",
         "Run To The Hills",
         "Iron Maiden"
        ],
        [
         "3167 ",
         "Unchained",
         "Van Halen"
        ],
        [
         "5586 ",
         "The Last In Line",
         "Dio"
        ],
        [
         "6624 ",
         "Everybody Wants Some!!!",
         "Van Halen"
        ],
        [
         "2976 ",
         "I Don't Know",
         "Ozzy Osbourne"
        ]
       ],
       "shape": {
        "columns": 2,
        "rows": 5
       }
      },
      "text/html": [
       "<div>\n",
       "<style scoped>\n",
       "    .dataframe tbody tr th:only-of-type {\n",
       "        vertical-align: middle;\n",
       "    }\n",
       "\n",
       "    .dataframe tbody tr th {\n",
       "        vertical-align: top;\n",
       "    }\n",
       "\n",
       "    .dataframe thead th {\n",
       "        text-align: right;\n",
       "    }\n",
       "</style>\n",
       "<table border=\"1\" class=\"dataframe\">\n",
       "  <thead>\n",
       "    <tr style=\"text-align: right;\">\n",
       "      <th></th>\n",
       "      <th>title</th>\n",
       "      <th>artist</th>\n",
       "    </tr>\n",
       "    <tr>\n",
       "      <th>id</th>\n",
       "      <th></th>\n",
       "      <th></th>\n",
       "    </tr>\n",
       "  </thead>\n",
       "  <tbody>\n",
       "    <tr>\n",
       "      <th>2849</th>\n",
       "      <td>Run To The Hills</td>\n",
       "      <td>Iron Maiden</td>\n",
       "    </tr>\n",
       "    <tr>\n",
       "      <th>3167</th>\n",
       "      <td>Unchained</td>\n",
       "      <td>Van Halen</td>\n",
       "    </tr>\n",
       "    <tr>\n",
       "      <th>5586</th>\n",
       "      <td>The Last In Line</td>\n",
       "      <td>Dio</td>\n",
       "    </tr>\n",
       "    <tr>\n",
       "      <th>6624</th>\n",
       "      <td>Everybody Wants Some!!!</td>\n",
       "      <td>Van Halen</td>\n",
       "    </tr>\n",
       "    <tr>\n",
       "      <th>2976</th>\n",
       "      <td>I Don't Know</td>\n",
       "      <td>Ozzy Osbourne</td>\n",
       "    </tr>\n",
       "  </tbody>\n",
       "</table>\n",
       "</div>"
      ],
      "text/plain": [
       "                         title         artist\n",
       "id                                           \n",
       "2849          Run To The Hills    Iron Maiden\n",
       "3167                 Unchained      Van Halen\n",
       "5586          The Last In Line            Dio\n",
       "6624   Everybody Wants Some!!!      Van Halen\n",
       "2976              I Don't Know  Ozzy Osbourne"
      ]
     },
     "execution_count": 8,
     "metadata": {},
     "output_type": "execute_result"
    }
   ],
   "source": [
    "import numpy as np\n",
    "\n",
    "def print_recommendations(song_id):\n",
    "    similar_songs = np.array(\n",
    "        model.wv.most_similar(positive=str(song_id),topn=5)\n",
    "    )[:,0]\n",
    "    return  songs_df.iloc[similar_songs]\n",
    "\n",
    "# Extract recommendations\n",
    "print_recommendations(2172)"
   ]
  }
 ],
 "metadata": {
  "kernelspec": {
   "display_name": "nlp-env",
   "language": "python",
   "name": "python3"
  },
  "language_info": {
   "codemirror_mode": {
    "name": "ipython",
    "version": 3
   },
   "file_extension": ".py",
   "mimetype": "text/x-python",
   "name": "python",
   "nbconvert_exporter": "python",
   "pygments_lexer": "ipython3",
   "version": "3.12.5"
  }
 },
 "nbformat": 4,
 "nbformat_minor": 2
}
